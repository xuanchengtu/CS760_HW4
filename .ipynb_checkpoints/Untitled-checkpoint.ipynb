{
 "cells": [
  {
   "cell_type": "code",
   "execution_count": 1,
   "id": "cfaa4c6f-1fec-4d70-b9be-60aa869bcd1e",
   "metadata": {},
   "outputs": [],
   "source": [
    "from collections import Counter\n",
    "import numpy as np\n",
    "import torch\n",
    "import torch.nn as nn\n",
    "import torch.optim as optim\n",
    "import torchvision\n",
    "import matplotlib.pyplot as plt"
   ]
  },
  {
   "cell_type": "code",
   "execution_count": 2,
   "id": "60ebd715-c3fc-43a1-9b07-d53194051a59",
   "metadata": {},
   "outputs": [],
   "source": [
    "char = \"abcdefghijklmnopqrstuvwxyz \"\n",
    "np.set_printoptions(suppress=True)"
   ]
  },
  {
   "cell_type": "code",
   "execution_count": 3,
   "id": "ff98925b-e3f6-49c4-b9b9-ad558bcff435",
   "metadata": {},
   "outputs": [],
   "source": [
    "def initDict():\n",
    "    charDict = {}\n",
    "    for i in char:\n",
    "        charDict[i] = 0.5\n",
    "    return charDict"
   ]
  },
  {
   "cell_type": "code",
   "execution_count": 4,
   "id": "296b43ef-c24d-4c80-a95a-3534359f71a8",
   "metadata": {},
   "outputs": [],
   "source": [
    "def charProb(lang):\n",
    "    totalCounter = initDict()\n",
    "    for i in range(10):\n",
    "        filename = \"languageID/\" + lang + str(i) + \".txt\"\n",
    "        with open(filename, \"r\") as f:\n",
    "            counter = Counter(f.read())\n",
    "            for j in char:\n",
    "                totalCounter[j] += counter[j]\n",
    "    charCount = sum(totalCounter.values())\n",
    "    prob = []\n",
    "    for i in totalCounter:\n",
    "        prob.append(np.log(totalCounter[i] / charCount))\n",
    "    return prob"
   ]
  },
  {
   "cell_type": "code",
   "execution_count": 5,
   "id": "d45f0f7b-e6dd-46aa-a905-50a771f5dbbe",
   "metadata": {},
   "outputs": [
    {
     "name": "stdout",
     "output_type": "stream",
     "text": [
      "0.3333333333333333\n"
     ]
    }
   ],
   "source": [
    "#q3.1\n",
    "print((10+1.5) / (30+3*1.5))"
   ]
  },
  {
   "cell_type": "code",
   "execution_count": 6,
   "id": "3e503ec7-2b62-4dd5-bd7c-b8147dcfb0be",
   "metadata": {},
   "outputs": [
    {
     "name": "stdout",
     "output_type": "stream",
     "text": [
      "θe:\n",
      "[0.06016851 0.01113497 0.02151    0.02197258 0.10536924 0.01893276\n",
      " 0.01747894 0.04721626 0.05541054 0.00142078 0.00373369 0.02897737\n",
      " 0.02051875 0.05792169 0.0644639  0.01675202 0.0005617  0.05382455\n",
      " 0.06618206 0.08012556 0.02666446 0.00928465 0.01549645 0.00115645\n",
      " 0.01384437 0.00062779 0.17924996]\n"
     ]
    }
   ],
   "source": [
    "#q3.2\n",
    "theta_e = charProb(\"e\")\n",
    "print(\"θe:\")\n",
    "print(np.exp(theta_e))"
   ]
  },
  {
   "cell_type": "code",
   "execution_count": 7,
   "id": "b48bf5fb-940b-44be-a058-b8950e7c453a",
   "metadata": {},
   "outputs": [
    {
     "name": "stdout",
     "output_type": "stream",
     "text": [
      "θj:\n",
      "[0.13176561 0.01086691 0.00548587 0.01722632 0.06020476 0.00387854\n",
      " 0.01401167 0.03176212 0.09703344 0.0023411  0.05740941 0.00143261\n",
      " 0.03979874 0.05671058 0.09116321 0.00087355 0.00010483 0.04280373\n",
      " 0.04217478 0.05699011 0.07061742 0.00024459 0.01974213 0.00003494\n",
      " 0.01415144 0.00772214 0.12344946]\n",
      "\n",
      "\n",
      "\n",
      "θs:\n",
      "[0.10456045 0.00823286 0.03752582 0.03974592 0.11381086 0.00860288\n",
      " 0.00718448 0.0045327  0.0498597  0.00662946 0.00027751 0.05294317\n",
      " 0.02580864 0.05417656 0.07249237 0.02426691 0.00767784 0.05929512\n",
      " 0.0657704  0.03561407 0.03370232 0.00588943 0.0000925  0.00249761\n",
      " 0.00786285 0.00268262 0.16826493]\n"
     ]
    }
   ],
   "source": [
    "#q3.3\n",
    "theta_j = charProb(\"j\")\n",
    "print(\"θj:\")\n",
    "print(np.exp(theta_j))\n",
    "theta_s = charProb(\"s\")\n",
    "print(\"\\n\\n\\nθs:\")\n",
    "print(np.exp(theta_s))"
   ]
  },
  {
   "cell_type": "code",
   "execution_count": 8,
   "id": "2eb1d892-e41c-422c-b7d4-78272e874b64",
   "metadata": {},
   "outputs": [
    {
     "name": "stdout",
     "output_type": "stream",
     "text": [
      "[164, 32, 53, 57, 311, 55, 51, 140, 140, 3, 6, 85, 64, 139, 182, 53, 3, 141, 186, 225, 65, 31, 47, 4, 38, 2, 498]\n"
     ]
    }
   ],
   "source": [
    "#q3.4\n",
    "x = None\n",
    "with open(\"languageID/e10.txt\", \"r\") as f:\n",
    "    x = []\n",
    "    counter = Counter(f.read())\n",
    "    for i in char:\n",
    "        x.append(counter[i])\n",
    "    print(x)"
   ]
  },
  {
   "cell_type": "code",
   "execution_count": 9,
   "id": "a4fdb877-3af9-4cb6-bbae-0d0da07242e2",
   "metadata": {},
   "outputs": [
    {
     "name": "stdout",
     "output_type": "stream",
     "text": [
      "-7841.865447060635 -8771.433079075032 -8467.282044010557\n",
      "pˆ(x | y = e) = 0.0\n",
      "pˆ(x | y = j) = 0.0\n",
      "pˆ(x | y = s) = 0.0\n"
     ]
    }
   ],
   "source": [
    "#q3.5\n",
    "def calcLikelihood(theta, count):\n",
    "    likelihood = 0\n",
    "    for i in range(27):\n",
    "        likelihood += theta[i] * count[i]\n",
    "    return likelihood\n",
    "\n",
    "pxye = calcLikelihood(theta_e, x)\n",
    "pxyj = calcLikelihood(theta_j, x)\n",
    "pxys = calcLikelihood(theta_s, x)\n",
    "print(pxye, pxyj, pxys)\n",
    "print(\"pˆ(x | y = e) =\", np.exp(pxye))\n",
    "print(\"pˆ(x | y = j) =\", np.exp(pxyj))\n",
    "print(\"pˆ(x | y = s) =\", np.exp(pxys))"
   ]
  },
  {
   "cell_type": "code",
   "execution_count": 10,
   "id": "36240fb7-dcf1-46de-8f20-f140490c01aa",
   "metadata": {},
   "outputs": [
    {
     "name": "stdout",
     "output_type": "stream",
     "text": [
      "p(x | y = e) = 1.0\n",
      "p(x | y = j) = 0.0\n",
      "p(x | y = s) = 2.4267389118368303e-272\n"
     ]
    }
   ],
   "source": [
    "#q3.6\n",
    "numeratore = np.log(1/3) + pxye\n",
    "numeratorj = np.log(1/3) + pxyj\n",
    "numerators = np.log(1/3) + pxys\n",
    "denominator = np.logaddexp(numeratore, np.logaddexp(numeratorj, numerators))\n",
    "print(\"p(x | y = e) =\", np.exp(numeratore - denominator))\n",
    "print(\"p(x | y = j) =\", np.exp(numeratorj - denominator))\n",
    "print(\"p(x | y = s) =\", np.exp(numerators - denominator))"
   ]
  },
  {
   "cell_type": "code",
   "execution_count": 22,
   "id": "c8545149-a4bb-4204-be8b-b79f22e91cb3",
   "metadata": {},
   "outputs": [
    {
     "name": "stdout",
     "output_type": "stream",
     "text": [
      "-7842.964059349303\n"
     ]
    }
   ],
   "source": [
    "print(denominator)"
   ]
  },
  {
   "cell_type": "code",
   "execution_count": 11,
   "id": "a4968626-91aa-43ba-8e00-4df05b40c9d3",
   "metadata": {},
   "outputs": [
    {
     "name": "stdout",
     "output_type": "stream",
     "text": [
      "0.0\n",
      "-929.5676320143966\n",
      "-625.4165969499218\n"
     ]
    }
   ],
   "source": [
    "print(numeratore - denominator)\n",
    "print(numeratorj - denominator)\n",
    "print(numerators - denominator)"
   ]
  },
  {
   "cell_type": "code",
   "execution_count": 12,
   "id": "5d4ee77d-c52c-42ad-b601-1655e78d2c0c",
   "metadata": {},
   "outputs": [
    {
     "name": "stdout",
     "output_type": "stream",
     "text": [
      "[[10  0  0]\n",
      " [ 0 10  0]\n",
      " [ 0  0 10]]\n"
     ]
    }
   ],
   "source": [
    "#q3.7\n",
    "def classify(filename):\n",
    "    x = None\n",
    "    with open(filename, \"r\") as f:\n",
    "        x = []\n",
    "        counter = Counter(f.read())\n",
    "        for i in char:\n",
    "            x.append(counter[i])\n",
    "        result = {\n",
    "            \"e\": calcLikelihood(theta_e, x),\n",
    "            \"j\": calcLikelihood(theta_j, x),\n",
    "            \"s\": calcLikelihood(theta_s, x),\n",
    "        }\n",
    "        return max(result, key=result.get)\n",
    "confMat = []\n",
    "for i in [\"e\", \"j\", \"s\"]:\n",
    "    english = 0\n",
    "    japanese = 0\n",
    "    spanish = 0\n",
    "    for j in range(10,20):\n",
    "        filename = \"languageID/\" + i + str(j) + \".txt\"\n",
    "        pred = classify(filename)\n",
    "        if pred == \"e\":\n",
    "            english += 1\n",
    "        if pred == \"j\":\n",
    "            japanese += 1\n",
    "        if pred == \"s\":\n",
    "            spanish += 1\n",
    "    confMat.append([english,japanese,spanish])\n",
    "print(np.transpose(confMat))"
   ]
  },
  {
   "cell_type": "code",
   "execution_count": 13,
   "id": "4fc2e558-8eae-41e1-86a5-10d6516036d0",
   "metadata": {},
   "outputs": [],
   "source": [
    "#neural network\n",
    "transform = torchvision.transforms.Compose([torchvision.transforms.ToTensor()])\n",
    "trainset = torchvision.datasets.MNIST(root='./data', train=True, transform=transform, download=True)\n",
    "trainloader = torch.utils.data.DataLoader(trainset, batch_size=len(trainset), shuffle=False)\n",
    "testset = torchvision.datasets.MNIST(root='./data', train=False, transform=transform, download=True)\n",
    "testloader = torch.utils.data.DataLoader(testset, batch_size=len(testset), shuffle=False)\n",
    "train_x, train_y = next(iter(trainloader))\n",
    "train_x = train_x.numpy()\n",
    "train_y = train_y.numpy()\n",
    "train_x = train_x.reshape(train_x.shape[0], -1).T\n",
    "train_y_vec = np.zeros((10, train_x.shape[-1]))\n",
    "for i in range(train_y_vec.shape[1]):\n",
    "    train_y_vec[train_y[i], i] = 1\n",
    "train_y = train_y_vec\n",
    "test_x, test_y = next(iter(testloader))\n",
    "test_x = test_x.numpy()\n",
    "test_y = test_y.numpy()\n",
    "test_x = test_x.reshape(test_x.shape[0], -1).T\n",
    "test_y_vec = np.zeros((10, test_x.shape[-1]))\n",
    "for i in range(test_y_vec.shape[1]):\n",
    "    test_y_vec[test_y[i], i] = 1\n",
    "test_y = test_y_vec"
   ]
  },
  {
   "cell_type": "code",
   "execution_count": 14,
   "id": "8cf5ba58-d073-46f4-9ddb-b7cee83cd384",
   "metadata": {},
   "outputs": [],
   "source": [
    "def sigmoid(x):\n",
    "    return 1 / (1 + np.exp(-x))"
   ]
  },
  {
   "cell_type": "code",
   "execution_count": 15,
   "id": "e828e357-cc99-409a-985b-e18219a12dbe",
   "metadata": {},
   "outputs": [],
   "source": [
    "def softmax(x):\n",
    "    return np.exp(x)/np.sum(np.exp(x), axis = 0, keepdims=True)"
   ]
  },
  {
   "cell_type": "code",
   "execution_count": 16,
   "id": "3e452173-6160-4bd0-9518-eb943b5050d1",
   "metadata": {},
   "outputs": [
    {
     "name": "stdout",
     "output_type": "stream",
     "text": [
      "iteration 0\n",
      "Accuracy on test set: 11.04%\n",
      "iteration 1000\n",
      "Accuracy on test set: 65.71000000000001%\n",
      "iteration 2000\n",
      "Accuracy on test set: 76.32%\n",
      "iteration 3000\n",
      "Accuracy on test set: 80.46%\n",
      "iteration 4000\n",
      "Accuracy on test set: 82.75%\n",
      "iteration 5000\n",
      "Accuracy on test set: 84.34%\n",
      "iteration 6000\n",
      "Accuracy on test set: 85.56%\n",
      "iteration 7000\n",
      "Accuracy on test set: 86.45%\n",
      "iteration 8000\n",
      "Accuracy on test set: 87.22999999999999%\n",
      "iteration 9000\n",
      "Accuracy on test set: 87.83%\n",
      "iteration 10000\n",
      "Accuracy on test set: 88.18%\n",
      "iteration 11000\n",
      "Accuracy on test set: 88.44%\n",
      "iteration 12000\n",
      "Accuracy on test set: 88.92%\n",
      "iteration 13000\n",
      "Accuracy on test set: 89.11%\n",
      "iteration 14000\n",
      "Accuracy on test set: 89.35%\n",
      "iteration 15000\n",
      "Accuracy on test set: 89.68%\n",
      "iteration 16000\n",
      "Accuracy on test set: 89.77000000000001%\n",
      "iteration 17000\n",
      "Accuracy on test set: 90.18%\n",
      "iteration 18000\n",
      "Accuracy on test set: 90.29%\n",
      "iteration 19000\n",
      "Accuracy on test set: 90.49000000000001%\n",
      "iteration 20000\n",
      "Accuracy on test set: 90.60000000000001%\n"
     ]
    },
    {
     "data": {
      "image/png": "[encoded data removed]",
      "text/plain": [
       "<Figure size 640x480 with 1 Axes>"
      ]
     },
     "metadata": {},
     "output_type": "display_data"
    },
    {
     "name": "stdout",
     "output_type": "stream",
     "text": [
      "Final accuracy on test set: 90.60000000000001%\n"
     ]
    }
   ],
   "source": [
    "w1 = np.random.uniform(-1, 1, (200, 28 * 28))\n",
    "w2 = np.random.uniform(-1, 1, (10, 200))      \n",
    "batch = 64\n",
    "i = 0\n",
    "iters = []\n",
    "accuVal = []\n",
    "while(i < 20001):\n",
    "    per = np.random.permutation(train_x.shape[1])\n",
    "    train_x_rand = train_x[:, per]\n",
    "    train_y_rand = train_y[:, per]\n",
    "    for j in range(0, train_x.shape[1], batch):\n",
    "        if i > 20000:\n",
    "            break\n",
    "        x = train_x_rand[:, j:j+batch]\n",
    "        y = train_y_rand[:, j:j+batch]\n",
    "        rawHidden = w1 @ x \n",
    "        activatedHidden = sigmoid(rawHidden) \n",
    "        rawOut = w2 @ activatedHidden \n",
    "        softmaxOut = softmax(rawOut) \n",
    "        #backpropagation implementation\n",
    "        w2Update = (softmaxOut - y) @ activatedHidden.T\n",
    "        w1Update = ((w2.T @ (softmaxOut - y)) * activatedHidden * (1 - activatedHidden)) @ x.T\n",
    "        w1 -= 0.01 * (1/batch) * w1Update\n",
    "        w2 -= 0.01 * (1/batch) * w2Update\n",
    "        #learning curve\n",
    "        if i % 1000 == 0:\n",
    "            print(\"iteration \" + str(i))\n",
    "            rawHidden = w1 @ test_x \n",
    "            activatedHidden = sigmoid(rawHidden) \n",
    "            rawOut = w2 @ activatedHidden \n",
    "            softmaxOut = softmax(rawOut) \n",
    "            classification = np.argmax(softmaxOut, axis=0)\n",
    "            accuracy = np.sum(classification == np.argmax(test_y, axis=0)) / test_x.shape[1]\n",
    "            print(\"Accuracy on test set: \" + str(accuracy * 100) + \"%\")\n",
    "            iters.append(i)\n",
    "            accuVal.append(accuracy)\n",
    "        i += 1\n",
    "plt.plot(iters, accuVal)\n",
    "plt.xlabel(\"iterations\")\n",
    "plt.ylabel(\"accuracy\")\n",
    "plt.title(\"From-scratch NN, lr=0.01, batch size = 64, initialize weights randomly from -1 to 1\")\n",
    "plt.show()\n",
    "rawHidden = w1 @ test_x \n",
    "activatedHidden = sigmoid(rawHidden) \n",
    "rawOut = w2 @ activatedHidden \n",
    "softmaxOut = softmax(rawOut) \n",
    "classification = np.argmax(softmaxOut, axis=0)\n",
    "accuracy = np.sum(classification == np.argmax(test_y, axis=0)) / test_x.shape[1]\n",
    "print(\"Final accuracy on test set: \" + str(accuracy * 100) + \"%\")"
   ]
  },
  {
   "cell_type": "code",
   "execution_count": 17,
   "id": "c0933fe4-66a4-49c2-8435-819ff08e7c9e",
   "metadata": {},
   "outputs": [
    {
     "name": "stdout",
     "output_type": "stream",
     "text": [
      "iteration 0\n",
      "Accuracy on test set: 11.27%\n",
      "iteration 1000\n",
      "Accuracy on test set: 64.26%\n",
      "iteration 2000\n",
      "Accuracy on test set: 74.8%\n",
      "iteration 3000\n",
      "Accuracy on test set: 79.1%\n",
      "iteration 4000\n",
      "Accuracy on test set: 81.37%\n",
      "iteration 5000\n",
      "Accuracy on test set: 83.3%\n",
      "iteration 6000\n",
      "Accuracy on test set: 84.47%\n",
      "iteration 7000\n",
      "Accuracy on test set: 85.47%\n",
      "iteration 8000\n",
      "Accuracy on test set: 86.14%\n",
      "iteration 9000\n",
      "Accuracy on test set: 86.72%\n",
      "iteration 10000\n",
      "Accuracy on test set: 87.2%\n",
      "iteration 11000\n",
      "Accuracy on test set: 87.56%\n",
      "iteration 12000\n",
      "Accuracy on test set: 88.05%\n",
      "iteration 13000\n",
      "Accuracy on test set: 88.36%\n",
      "iteration 14000\n",
      "Accuracy on test set: 88.72%\n",
      "iteration 15000\n",
      "Accuracy on test set: 89.01%\n",
      "iteration 16000\n",
      "Accuracy on test set: 89.27%\n",
      "iteration 17000\n",
      "Accuracy on test set: 89.48%\n",
      "iteration 18000\n",
      "Accuracy on test set: 89.62%\n",
      "iteration 19000\n",
      "Accuracy on test set: 89.79%\n",
      "iteration 20000\n",
      "Accuracy on test set: 90.04%\n"
     ]
    },
    {
     "data": {
      "image/png": "[encoded data removed]",
      "text/plain": [
       "<Figure size 640x480 with 1 Axes>"
      ]
     },
     "metadata": {},
     "output_type": "display_data"
    },
    {
     "name": "stdout",
     "output_type": "stream",
     "text": [
      "Final accuracy on test set: 90.04%\n"
     ]
    }
   ],
   "source": [
    "#Neural network implementation with Pytorch, referenced a tutorial on the Pytorch documentation:https://pytorch.org/tutorials/beginner/blitz/cifar10_tutorial.html\n",
    "trainloader = torch.utils.data.DataLoader(trainset, batch_size=64, shuffle=False)\n",
    "testloader = torch.utils.data.DataLoader(testset, batch_size=64, shuffle=False)\n",
    "\n",
    "class nnWithPytorch(nn.Module):\n",
    "    def __init__(self):\n",
    "        super().__init__()\n",
    "        self.layer1 = nn.Linear(28 * 28, 200)\n",
    "        torch.nn.init.uniform_(self.layer1.weight, -1, 1) \n",
    "        self.layer2 = nn.Linear(200, 10)\n",
    "        torch.nn.init.uniform_(self.layer2.weight, -1, 1) \n",
    "        \n",
    "    def forward(self, x):\n",
    "        x = x.view(x.size(0), -1)\n",
    "        x = torch.sigmoid(self.layer1(x))\n",
    "        x = self.layer2(x)\n",
    "        return x\n",
    "\n",
    "net = nnWithPytorch()\n",
    "criterion = nn.CrossEntropyLoss()\n",
    "optimizer = optim.SGD(net.parameters(), lr=0.01)\n",
    "\n",
    "iteration = 0\n",
    "iters = []\n",
    "accuVal = []\n",
    "while(iteration < 20001):\n",
    "    for i, data in enumerate(trainloader, 0):\n",
    "        if iteration > 20000:\n",
    "            break\n",
    "        inputs, labels = data\n",
    "        optimizer.zero_grad()\n",
    "        outputs = net(inputs)\n",
    "        loss = criterion(outputs, labels)\n",
    "        loss.backward()\n",
    "        optimizer.step()\n",
    "        if iteration % 1000 == 0:\n",
    "            print(\"iteration \" + str(iteration))\n",
    "            correct = 0\n",
    "            total = 0\n",
    "            with torch.no_grad():\n",
    "                for data in testloader:\n",
    "                    images, labels = data\n",
    "                    outputs = net(images)\n",
    "                    _, predicted = torch.max(outputs.data, 1)\n",
    "                    total += labels.size(0)\n",
    "                    correct += (predicted == labels).sum().item()\n",
    "            print(\"Accuracy on test set: \" + str(100 * correct / total) + \"%\")\n",
    "            iters.append(iteration)\n",
    "            accuVal.append(correct / total)\n",
    "        iteration += 1\n",
    "plt.plot(iters, accuVal)\n",
    "plt.xlabel(\"iterations\")\n",
    "plt.ylabel(\"accuracy\")\n",
    "plt.title(\"Pytorch NN, lr=0.01, batch size = 64, initialize weights randomly from -1 to 1\")\n",
    "plt.show()\n",
    "correct = 0\n",
    "total = 0\n",
    "with torch.no_grad():\n",
    "    for data in testloader:\n",
    "        images, labels = data\n",
    "        outputs = net(images)\n",
    "        _, predicted = torch.max(outputs.data, 1)\n",
    "        total += labels.size(0)\n",
    "        correct += (predicted == labels).sum().item()\n",
    "print(\"Final accuracy on test set: \" + str(100 * correct / total) + \"%\")"
   ]
  },
  {
   "cell_type": "code",
   "execution_count": 21,
   "id": "5babed77-20d6-404a-bfb6-14f9403582ff",
   "metadata": {},
   "outputs": [
    {
     "name": "stdout",
     "output_type": "stream",
     "text": [
      "iteration 0\n",
      "Accuracy on test set: 10.1%\n",
      "iteration 2000\n",
      "Accuracy on test set: 11.35%\n",
      "iteration 4000\n",
      "Accuracy on test set: 11.35%\n",
      "iteration 6000\n",
      "Accuracy on test set: 11.35%\n",
      "iteration 8000\n",
      "Accuracy on test set: 11.35%\n",
      "iteration 10000\n",
      "Accuracy on test set: 23.21%\n",
      "iteration 12000\n",
      "Accuracy on test set: 31.63%\n",
      "iteration 14000\n",
      "Accuracy on test set: 47.05%\n",
      "iteration 16000\n",
      "Accuracy on test set: 64.46%\n",
      "iteration 18000\n",
      "Accuracy on test set: 72.35%\n",
      "iteration 20000\n",
      "Accuracy on test set: 76.23%\n",
      "iteration 22000\n",
      "Accuracy on test set: 80.9%\n",
      "iteration 24000\n",
      "Accuracy on test set: 84.24%\n",
      "iteration 26000\n",
      "Accuracy on test set: 86.65%\n",
      "iteration 28000\n",
      "Accuracy on test set: 87.88%\n",
      "iteration 30000\n",
      "Accuracy on test set: 88.64%\n",
      "iteration 32000\n",
      "Accuracy on test set: 89.11%\n",
      "iteration 34000\n",
      "Accuracy on test set: 89.52%\n",
      "iteration 36000\n",
      "Accuracy on test set: 89.85%\n",
      "iteration 38000\n",
      "Accuracy on test set: 90.11%\n",
      "iteration 40000\n",
      "Accuracy on test set: 90.38%\n"
     ]
    },
    {
     "data": {
      "image/png": "[encoded data removed]",
      "text/plain": [
       "<Figure size 640x480 with 1 Axes>"
      ]
     },
     "metadata": {},
     "output_type": "display_data"
    },
    {
     "name": "stdout",
     "output_type": "stream",
     "text": [
      "Final accuracy on test set: 90.38%\n"
     ]
    }
   ],
   "source": [
    "trainloader = torch.utils.data.DataLoader(trainset, batch_size=64, shuffle=False)\n",
    "testloader = torch.utils.data.DataLoader(testset, batch_size=64, shuffle=False)\n",
    "\n",
    "class nnWithPytorch(nn.Module):\n",
    "    def __init__(self):\n",
    "        super().__init__()\n",
    "        self.layer1 = nn.Linear(28 * 28, 200)\n",
    "        torch.nn.init.zeros_(self.layer1.weight) \n",
    "        self.layer2 = nn.Linear(200, 10)\n",
    "        torch.nn.init.zeros_(self.layer2.weight) \n",
    "        \n",
    "    def forward(self, x):\n",
    "        x = x.view(x.size(0), -1)\n",
    "        x = torch.sigmoid(self.layer1(x))\n",
    "        x = self.layer2(x)\n",
    "        return x\n",
    "\n",
    "net = nnWithPytorch()\n",
    "criterion = nn.CrossEntropyLoss()\n",
    "optimizer = optim.SGD(net.parameters(), lr=0.01)\n",
    "\n",
    "iteration = 0\n",
    "iters = []\n",
    "accuVal = []\n",
    "while(iteration < 40001):\n",
    "    for i, data in enumerate(trainloader, 0):\n",
    "        if iteration > 40000:\n",
    "            break\n",
    "        inputs, labels = data\n",
    "        optimizer.zero_grad()\n",
    "        outputs = net(inputs)\n",
    "        loss = criterion(outputs, labels)\n",
    "        loss.backward()\n",
    "        optimizer.step()\n",
    "        if iteration % 2000 == 0:\n",
    "            print(\"iteration \" + str(iteration))\n",
    "            correct = 0\n",
    "            total = 0\n",
    "            with torch.no_grad():\n",
    "                for data in testloader:\n",
    "                    images, labels = data\n",
    "                    outputs = net(images)\n",
    "                    _, predicted = torch.max(outputs.data, 1)\n",
    "                    total += labels.size(0)\n",
    "                    correct += (predicted == labels).sum().item()\n",
    "            print(\"Accuracy on test set: \" + str(100 * correct / total) + \"%\")\n",
    "            iters.append(iteration)\n",
    "            accuVal.append(correct / total)\n",
    "        iteration += 1\n",
    "plt.plot(iters, accuVal)\n",
    "plt.xlabel(\"iterations\")\n",
    "plt.ylabel(\"accuracy\")\n",
    "plt.title(\"Pytorch NN, lr=0.01, batch size = 64, initialize all weights with 0\")\n",
    "plt.show()\n",
    "correct = 0\n",
    "total = 0\n",
    "with torch.no_grad():\n",
    "    for data in testloader:\n",
    "        images, labels = data\n",
    "        outputs = net(images)\n",
    "        _, predicted = torch.max(outputs.data, 1)\n",
    "        total += labels.size(0)\n",
    "        correct += (predicted == labels).sum().item()\n",
    "print(\"Final accuracy on test set: \" + str(100 * correct / total) + \"%\")"
   ]
  },
  {
   "cell_type": "code",
   "execution_count": null,
   "id": "b18bde5b-23b1-4004-a2ba-d43b6ca49887",
   "metadata": {},
   "outputs": [],
   "source": []
  }
 ],
 "metadata": {
  "kernelspec": {
   "display_name": "Python 3 (ipykernel)",
   "language": "python",
   "name": "python3"
  },
  "language_info": {
   "codemirror_mode": {
    "name": "ipython",
    "version": 3
   },
   "file_extension": ".py",
   "mimetype": "text/x-python",
   "name": "python",
   "nbconvert_exporter": "python",
   "pygments_lexer": "ipython3",
   "version": "3.10.0"
  }
 },
 "nbformat": 4,
 "nbformat_minor": 5
}
